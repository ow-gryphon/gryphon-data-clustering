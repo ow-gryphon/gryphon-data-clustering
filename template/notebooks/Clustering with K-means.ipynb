{
 "cells": [
  {
   "cell_type": "markdown",
   "id": "d863ba4d",
   "metadata": {},
   "source": [
    "<div class=\"alert alert-danger\" role=\"alert\">\n",
    "    <span style=\"font-size:20px\">&#9888;</span> <span style=\"font-size:16px\">This is a read-only notebook! If you want to make and save changes, save a copy by clicking on <b>File</b> &#8594; <b>Save a copy</b>. If this is already a copy, you can delete this cell.</span>\n",
    "</div>"
   ]
  },
  {
   "cell_type": "code",
   "execution_count": null,
   "id": "51958931",
   "metadata": {},
   "outputs": [],
   "source": [
    "# Load in Python libraries\n",
    "%matplotlib inline\n",
    "import pandas as pd\n",
    "import matplotlib.pyplot as plt\n",
    "from mpl_toolkits.mplot3d import Axes3D\n",
    "import seaborn as sns\n",
    "\n",
    "sns.set_style(\"white\")"
   ]
  },
  {
   "cell_type": "code",
   "execution_count": null,
   "id": "c0060058",
   "metadata": {},
   "outputs": [],
   "source": [
    "# Temporary Developer's code\n",
    "%load_ext autoreload\n",
    "%autoreload 2"
   ]
  },
  {
   "cell_type": "code",
   "execution_count": null,
   "id": "0e467b42",
   "metadata": {},
   "outputs": [],
   "source": [
    "# Add path of the folder 'resources' to the path from which we can import modules  \n",
    "import sys\n",
    "sys.path.append('../utilities')\n",
    "from clustering import KMeansClustering\n"
   ]
  },
  {
   "cell_type": "markdown",
   "id": "ccf6e74e",
   "metadata": {},
   "source": [
    "# Read in data"
   ]
  },
  {
   "cell_type": "code",
   "execution_count": null,
   "id": "2e3040aa",
   "metadata": {},
   "outputs": [],
   "source": [
    "# Load in the data\n",
    "soccer_data = pd.read_csv(\"sample_inputs/soccer.csv\")"
   ]
  },
  {
   "cell_type": "code",
   "execution_count": null,
   "id": "6136f0db",
   "metadata": {},
   "outputs": [],
   "source": [
    "# Look at the top 10 rows\n",
    "pd.set_option('display.max_columns', None) # Show all columns -- only use if needed and data is not extremely wide\n",
    "soccer_data.head(10)"
   ]
  },
  {
   "cell_type": "markdown",
   "id": "b37ea359",
   "metadata": {},
   "source": [
    "### Other type of optional pre-processing to be added "
   ]
  },
  {
   "cell_type": "markdown",
   "id": "0252ff07",
   "metadata": {},
   "source": [
    "# Perform K-means analysis for a specific number of clusters"
   ]
  },
  {
   "cell_type": "code",
   "execution_count": null,
   "id": "b8793ceb",
   "metadata": {
    "tags": []
   },
   "outputs": [],
   "source": [
    "from clustering.kmeans import KMeansClustering\n",
    "\n",
    "\n",
    "variable_names = [\n",
    "    'crossing', 'finishing', 'heading_accuracy', 'short_passing',\n",
    "    'dribbling', 'free_kick_accuracy', 'sprint_speed', 'ball_control', \n",
    "    'reactions', 'agility', 'sliding_tackle'\n",
    "]\n",
    "\n",
    "kmeans_result = KMeansClustering.execute_k_means(\n",
    "    data=soccer_data,    \n",
    "    variables=variable_names,\n",
    "    num_clusters=5, \n",
    "    standardize_vars=True, \n",
    "    generate_charts=True,\n",
    "    save_results_to_excel=True,\n",
    "    random_state=0\n",
    ")\n",
    "\n",
    "# TODO: Include the dimensionality reduction methods to the notebooks (add as a requirement for the clustering template)\n",
    "\n",
    "\n",
    "# OK: Is there a way to apply nbstripout conditioned to file size?\n",
    "# YESSSS\n",
    "# nbstripout --max-size 10000k\n",
    "\n",
    "# TODO: add nbstripout for template scaffold\n"
   ]
  },
  {
   "cell_type": "code",
   "execution_count": null,
   "id": "4a27616c-5f27-49c0-88dd-4adf5f13ef28",
   "metadata": {},
   "outputs": [],
   "source": [
    "from sklearn.preprocessing import MinMaxScaler\n",
    "from sklearn.cluster import KMeans\n",
    "\n",
    "\n",
    "data = kmeans_result[\"raw_data\"]\n",
    "\n",
    "# SCALING\n",
    "for col in data.columns:\n",
    "    if col == \"Cluster_assigned\":\n",
    "        continue\n",
    "\n",
    "    if data[col].dtype == object:\n",
    "        continue\n",
    "        \n",
    "    scaler = MinMaxScaler()\n",
    "    data[col] = scaler.fit_transform(data[col].values.reshape(-1, 1))\n",
    "\n",
    "\n",
    "cluster_mean = data.groupby(\"Cluster_assigned\").mean()\n",
    "\n",
    "\n",
    "# SORTING VARIABLES \n",
    "# according to similarity (variable clustering)\n",
    "means = cluster_mean.T\n",
    "km = KMeans(n_clusters=10, random_state=0)\n",
    "means['labels'] = km.fit_predict(means)\n",
    "\n",
    "means = (\n",
    "    means\n",
    "    .reset_index()\n",
    "    .set_index('labels')\n",
    "    .sort_index()\n",
    "    .reset_index(drop=True)\n",
    "    .set_index('index')\n",
    ")\n",
    "\n",
    "# PLOTTING\n",
    "plt.subplots(1, 1, figsize=(14, 18))\n",
    "sns.heatmap(means, vmin=0, vmax=1, cmap=\"Greens\");\n",
    "\n",
    "\n",
    "# 0 == atacante\n",
    "# 1 == centravante\n",
    "# 2 == gooleiro\n",
    "# 3 == meio de campo\n",
    "# 4 == zagueiro\n",
    "\n",
    "# data.query(\"Cluster_assigned == 0\")"
   ]
  },
  {
   "cell_type": "markdown",
   "id": "18cfc8f8-778b-43d5-9ac9-e6a54aaa7545",
   "metadata": {},
   "source": [
    "### Exploring results in depth\n",
    "\n",
    "The `KMeansClustering.execute_k_means` function returns a dictionary with additional results (beyond plots) that can be used for further analysis of the clustering.\n",
    "Namely:\n",
    "* `model`: The scikit-learn model that can be used for prediction on new data and also to access metrics.\n",
    "* `data`: The data used on the cluster algorithm training.\n",
    "* `centroids`: A dataframe with the centroids of each cluster found.\n",
    "* `cluster_n`: A dataframe containing the point counts for each cluster.\n",
    "* `scores`: Clustering scores calculated for the obtained clustering.\n",
    "* `cluster_plot`: Matplotlib figure object of the 3D/2D scatter plot of the principal components (PCA) with cluster colors.\n",
    "* `cluster_plot_info`: Aditional informations about the cluster plot and PCA.\n",
    "* `factor_plot`: Seaborn FacetGrid object with the box plots of each factor for each cluster."
   ]
  },
  {
   "cell_type": "code",
   "execution_count": null,
   "id": "71ec1caf-b60e-4bae-a6d1-97833b39f4ac",
   "metadata": {},
   "outputs": [],
   "source": [
    "kmeans_result.keys()"
   ]
  },
  {
   "cell_type": "markdown",
   "id": "7e1bbc14-36f1-44af-8288-f04223597d0e",
   "metadata": {},
   "source": [
    "Getting the model scores:"
   ]
  },
  {
   "cell_type": "code",
   "execution_count": null,
   "id": "d848866e-ce9f-4dfc-895f-1b6e3aedf771",
   "metadata": {},
   "outputs": [],
   "source": [
    "kmeans_result[\"scores\"]"
   ]
  },
  {
   "cell_type": "markdown",
   "id": "e108236d",
   "metadata": {},
   "source": [
    "# Perform K-means analysis for a range of clusters"
   ]
  },
  {
   "cell_type": "code",
   "execution_count": null,
   "id": "fc9c3719",
   "metadata": {
    "tags": []
   },
   "outputs": [],
   "source": [
    "from clustering.kmeans import KMeansClustering\n",
    "\n",
    "results = KMeansClustering.k_means_range(\n",
    "    dataset=soccer_data, \n",
    "    variables=variable_names,\n",
    "    min_clusters = 2, max_clusters = 6,\n",
    "    standardize_vars=True, \n",
    "    generate_charts=True,\n",
    "    save_results_to_excel=True,\n",
    "    export_charts=True\n",
    ")\n",
    "\n",
    "# OK: Add samples of how to acces data from centroids from inside the \"results\" variable outputed from the function\n"
   ]
  },
  {
   "cell_type": "markdown",
   "id": "1eb88427-7794-4edf-b3b4-ff37750302da",
   "metadata": {
    "tags": []
   },
   "source": [
    "### Exploring results in depth\n",
    "\n",
    "The `KMeansClustering.k_means_range` function returns a dictionary the same informations present in the outputs of `KMeansClustering.execute_k_means` for each of the number of clusters inside the range executed.\n",
    "\n",
    "If you want to acces the details of the algorithm for 3 clusters you should access it as a dictionary: `results[3]` "
   ]
  },
  {
   "cell_type": "markdown",
   "id": "b562e057-c61f-42e7-a843-bf21631e1934",
   "metadata": {},
   "source": [
    "## Larger datasets\n",
    "\n",
    "If you are working with larger datasets the regular KMeans might end up running for longer or consumpting too much computational resources (sometimes needing more than is available). In this case, one can use the `MiniBatchKMeansClustering`.\n",
    "\n",
    "It is an implementation that processes the data in smaller chunks progressivelly. You can control the chunk size and also the maximum number of iterations via parameter keyword arguments. Every extra kwarg will be redirected to the [sklearn MiniBatchKMeans](https://scikit-learn.org/stable/modules/generated/sklearn.cluster.MiniBatchKMeans.html?highlight=kmeans#sklearn.cluster.MiniBatchKMeans) function. Please refer to the sklearn documentation for advanced options.\n",
    "\n",
    "The output format is the same as used for the regular KMeans from above."
   ]
  },
  {
   "cell_type": "code",
   "execution_count": null,
   "id": "d56d8e8f-e10a-4409-8711-32183f24ca26",
   "metadata": {},
   "outputs": [],
   "source": [
    "from clustering.mini_batch_k_means import MiniBatchKMeansClustering\n",
    "\n",
    "\n",
    "variable_names = [\n",
    "    'crossing', 'finishing', 'heading_accuracy', 'short_passing',\n",
    "    'dribbling', 'free_kick_accuracy', 'sprint_speed', 'ball_control', \n",
    "    'reactions', 'agility', 'sliding_tackle'\n",
    "]\n",
    "\n",
    "kmeans_result = MiniBatchKMeansClustering.execute_mini_batch_k_means(\n",
    "    data=soccer_data,    \n",
    "    variables=variable_names,\n",
    "    num_clusters=2,\n",
    "    standardize_vars=True, \n",
    "    generate_charts=True,\n",
    "    save_results_to_excel=True,\n",
    "    \n",
    "    # extra kwargs\n",
    "    max_iter=100, \n",
    "    batch_size=1024\n",
    ")"
   ]
  },
  {
   "cell_type": "markdown",
   "id": "65e32cbd-d917-48a5-b3ad-e4d8ad61f198",
   "metadata": {},
   "source": [
    "The same holds for the cluster range number execution"
   ]
  },
  {
   "cell_type": "code",
   "execution_count": null,
   "id": "ccff7d59-05f1-4565-b4a1-8aada768a671",
   "metadata": {},
   "outputs": [],
   "source": [
    "from clustering.mini_batch_k_means import MiniBatchKMeansClustering\n",
    "\n",
    "\n",
    "variable_names = [\n",
    "    'crossing', 'finishing', 'heading_accuracy', 'short_passing',\n",
    "    'dribbling', 'free_kick_accuracy', 'sprint_speed', 'ball_control', \n",
    "    'reactions', 'agility', 'sliding_tackle'\n",
    "]\n",
    "\n",
    "kmeans_result = MiniBatchKMeansClustering.mini_batch_k_means_range(\n",
    "    data=soccer_data,    \n",
    "    variables=variable_names,\n",
    "    min_clusters=2, max_clusters=5,\n",
    "    standardize_vars=True, \n",
    "    generate_charts=False,\n",
    "    save_results_to_excel=False,\n",
    "    \n",
    "    # extra kwargs\n",
    "    max_iter=100, \n",
    "    batch_size=1024\n",
    ")"
   ]
  }
 ],
 "metadata": {
  "kernelspec": {
   "display_name": "Python 3",
   "language": "python",
   "name": "python3"
  },
  "language_info": {
   "codemirror_mode": {
    "name": "ipython",
    "version": 3
   },
   "file_extension": ".py",
   "mimetype": "text/x-python",
   "name": "python",
   "nbconvert_exporter": "python",
   "pygments_lexer": "ipython3",
   "version": "3.8.8"
  },
  "toc": {
   "base_numbering": 1,
   "nav_menu": {},
   "number_sections": true,
   "sideBar": true,
   "skip_h1_title": false,
   "title_cell": "Table of Contents",
   "title_sidebar": "Contents",
   "toc_cell": false,
   "toc_position": {},
   "toc_section_display": true,
   "toc_window_display": false
  }
 },
 "nbformat": 4,
 "nbformat_minor": 5
}
