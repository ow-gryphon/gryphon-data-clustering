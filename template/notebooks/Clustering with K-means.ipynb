{
 "cells": [
  {
   "cell_type": "markdown",
   "id": "d863ba4d",
   "metadata": {},
   "source": [
    "<div class=\"alert alert-danger\" role=\"alert\">\n",
    "    <span style=\"font-size:20px\">&#9888;</span> <span style=\"font-size:16px\">This is a read-only notebook! If you want to make and save changes, save a copy by clicking on <b>File</b> &#8594; <b>Save a copy</b>. If this is already a copy, you can delete this cell.</span>\n",
    "</div>"
   ]
  },
  {
   "cell_type": "code",
   "execution_count": null,
   "id": "51958931",
   "metadata": {},
   "outputs": [],
   "source": [
    "# Load in Python libraries\n",
    "import pandas as pd\n",
    "import matplotlib.pyplot as plt\n",
    "# import seaborn as sns\n",
    "from mpl_toolkits.mplot3d import Axes3D\n",
    "%matplotlib inline"
   ]
  },
  {
   "cell_type": "code",
   "execution_count": null,
   "id": "c0060058",
   "metadata": {},
   "outputs": [],
   "source": [
    "# Temporary Developer's code\n",
    "%load_ext autoreload\n",
    "%autoreload 2"
   ]
  },
  {
   "cell_type": "code",
   "execution_count": null,
   "id": "0e467b42",
   "metadata": {},
   "outputs": [],
   "source": [
    "# Add path of the folder 'resources' to the path from which we can import modules  \n",
    "import sys\n",
    "sys.path.append('../utilities')\n",
    "from clustering.kmeans import execute_k_means, k_means_range\n"
   ]
  },
  {
   "cell_type": "markdown",
   "id": "ccf6e74e",
   "metadata": {},
   "source": [
    "# Read in data"
   ]
  },
  {
   "cell_type": "code",
   "execution_count": null,
   "id": "2e3040aa",
   "metadata": {},
   "outputs": [],
   "source": [
    "# Load in the data\n",
    "soccer_data = pd.read_csv(\"sample_inputs/soccer.csv\")"
   ]
  },
  {
   "cell_type": "code",
   "execution_count": null,
   "id": "6136f0db",
   "metadata": {},
   "outputs": [],
   "source": [
    "# Look at the top 10 rows\n",
    "pd.set_option('display.max_columns', None) # Show all columns -- only use if needed and data is not extremely wide\n",
    "soccer_data.head(10)"
   ]
  },
  {
   "cell_type": "markdown",
   "id": "b37ea359",
   "metadata": {},
   "source": [
    "### Other type of optional pre-processing to be added "
   ]
  },
  {
   "cell_type": "markdown",
   "id": "0252ff07",
   "metadata": {},
   "source": [
    "# Perform K-means analysis for a specific number of clusters"
   ]
  },
  {
   "cell_type": "code",
   "execution_count": null,
   "id": "b8793ceb",
   "metadata": {},
   "outputs": [],
   "source": [
    "from clustering.kmeans import KMeansClustering\n",
    "import seaborn as sns\n",
    "\n",
    "sns.set_style(\"white\")\n",
    "\n",
    "variable_names = [\n",
    "    'crossing', 'finishing', 'heading_accuracy', 'short_passing',\n",
    "    'dribbling', 'free_kick_accuracy', 'sprint_speed', 'ball_control', \n",
    "    'reactions', 'agility', 'sliding_tackle'\n",
    "]\n",
    "\n",
    "result = KMeansClustering.execute_k_means(\n",
    "    dataset=soccer_data, \n",
    "    variables=variable_names,\n",
    "    num_clusters=3, \n",
    "    standardize_vars=True, \n",
    "    generate_charts=True,\n",
    "    save_results_to_excel=True\n",
    ")\n",
    "\n",
    "# OK: resize the 3d scatterplot\n",
    "# OK: display the seaborn plot\n",
    "# OK: export results to excel (either having an option on the function or with a separated function \"to_excel\" see what is best)\n",
    "\n",
    "# OK: add elbow plots when uusing the range method\n",
    "# OK: specify path for excel outputs (instead of just boolean choice)\n",
    "# TODO: Export charts to output folders (with timmestamp)\n",
    "\n",
    "# TODO: export the whole dataset with the assigned clusters so that e can plot mmore intuitive ways for the user to  have a\n",
    "#     glimpse of what each cluster could be interpreted (see the soccer heatmap on dan's slide)\n",
    "# TODO: add nbstripout for template scaffold\n",
    "\n",
    "# TODO: Include more clustering methods to this template.\n",
    "#     KMeans Minibatch (for being able to use on larger datasets)\n",
    "\n",
    "# TODO: Include the dimensionality reduction methods to the notebooks (add as a requirement for the clustering template)\n"
   ]
  },
  {
   "cell_type": "code",
   "execution_count": null,
   "id": "dd0a7cb9-d08f-4728-8873-9dfecabb38db",
   "metadata": {},
   "outputs": [],
   "source": [
    "all_scores = []\n",
    "\n",
    "\n",
    "for cluster_num, result in results.items():\n",
    "    scores = result[\"scores\"]\n",
    "    all_scores.append(scores)\n",
    "\n",
    "df = pd.DataFrame(all_scores)\n",
    "df"
   ]
  },
  {
   "cell_type": "code",
   "execution_count": null,
   "id": "7b3dfb39-bf51-4133-a494-5d3e9695ab6e",
   "metadata": {},
   "outputs": [],
   "source": [
    "from clustering.visualize_clusters import get_elbow_plot\n",
    "\n",
    "get_elbow_plot(df)"
   ]
  },
  {
   "cell_type": "markdown",
   "id": "e108236d",
   "metadata": {},
   "source": [
    "# Perform K-means analysis for a range of clusters"
   ]
  },
  {
   "cell_type": "code",
   "execution_count": null,
   "id": "fc9c3719",
   "metadata": {},
   "outputs": [],
   "source": [
    "from clustering.kmeans import KMeansClustering\n",
    "\n",
    "results = KMeansClustering.k_means_range(\n",
    "    dataset=soccer_data, \n",
    "    variables=variable_names,\n",
    "    min_clusters = 2, max_clusters = 6,\n",
    "    standardize_vars=True, \n",
    "    generate_charts=True,\n",
    "    save_results_to_excel=True\n",
    ")\n",
    "\n",
    "# TODO: Add samples of how to acces data from centroids from inside the \"results\" variable outputed from the function\n"
   ]
  },
  {
   "cell_type": "code",
   "execution_count": null,
   "id": "bc2ad5eb-69c9-4a27-ab1d-08afec6d88af",
   "metadata": {},
   "outputs": [],
   "source": []
  }
 ],
 "metadata": {
  "kernelspec": {
   "display_name": "Python 3",
   "language": "python",
   "name": "python3"
  },
  "language_info": {
   "codemirror_mode": {
    "name": "ipython",
    "version": 3
   },
   "file_extension": ".py",
   "mimetype": "text/x-python",
   "name": "python",
   "nbconvert_exporter": "python",
   "pygments_lexer": "ipython3",
   "version": "3.8.8"
  },
  "toc": {
   "base_numbering": 1,
   "nav_menu": {},
   "number_sections": true,
   "sideBar": true,
   "skip_h1_title": false,
   "title_cell": "Table of Contents",
   "title_sidebar": "Contents",
   "toc_cell": false,
   "toc_position": {},
   "toc_section_display": true,
   "toc_window_display": false
  }
 },
 "nbformat": 4,
 "nbformat_minor": 5
}
