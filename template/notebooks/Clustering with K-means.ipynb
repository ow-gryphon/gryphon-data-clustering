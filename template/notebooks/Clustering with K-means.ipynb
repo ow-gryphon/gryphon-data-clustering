{
 "cells": [
  {
   "cell_type": "markdown",
   "id": "d863ba4d",
   "metadata": {},
   "source": [
    "<div class=\"alert alert-danger\" role=\"alert\">\n",
    "    <span style=\"font-size:20px\">&#9888;</span> <span style=\"font-size:16px\">This is a read-only notebook! If you want to make and save changes, save a copy by clicking on <b>File</b> &#8594; <b>Save a copy</b>. If this is already a copy, you can delete this cell.</span>\n",
    "</div>"
   ]
  },
  {
   "cell_type": "code",
   "execution_count": null,
   "id": "51958931",
   "metadata": {},
   "outputs": [],
   "source": [
    "# Load in Python libraries\n",
    "%matplotlib inline\n",
    "import pandas as pd\n",
    "import matplotlib.pyplot as plt\n",
    "from mpl_toolkits.mplot3d import Axes3D\n",
    "import seaborn as sns\n",
    "\n",
    "sns.set_style(\"white\")"
   ]
  },
  {
   "cell_type": "code",
   "execution_count": null,
   "id": "c0060058",
   "metadata": {},
   "outputs": [],
   "source": [
    "# Temporary Developer's code\n",
    "%load_ext autoreload\n",
    "%autoreload 2"
   ]
  },
  {
   "cell_type": "code",
   "execution_count": null,
   "id": "0e467b42",
   "metadata": {},
   "outputs": [],
   "source": [
    "# Add path of the folder 'resources' to the path from which we can import modules  \n",
    "import sys\n",
    "sys.path.append('../utilities')\n",
    "from clustering.kmeans import KMeansClustering\n"
   ]
  },
  {
   "cell_type": "markdown",
   "id": "ccf6e74e",
   "metadata": {},
   "source": [
    "# Read in data"
   ]
  },
  {
   "cell_type": "code",
   "execution_count": null,
   "id": "2e3040aa",
   "metadata": {},
   "outputs": [],
   "source": [
    "# Load in the data\n",
    "soccer_data = pd.read_csv(\"sample_inputs/soccer.csv\")"
   ]
  },
  {
   "cell_type": "code",
   "execution_count": null,
   "id": "6136f0db",
   "metadata": {},
   "outputs": [],
   "source": [
    "# Look at the top 10 rows\n",
    "pd.set_option('display.max_columns', None) # Show all columns -- only use if needed and data is not extremely wide\n",
    "soccer_data.head(10)"
   ]
  },
  {
   "cell_type": "markdown",
   "id": "b37ea359",
   "metadata": {},
   "source": [
    "### Other type of optional pre-processing to be added "
   ]
  },
  {
   "cell_type": "markdown",
   "id": "0252ff07",
   "metadata": {},
   "source": [
    "# Perform K-means analysis for a specific number of clusters"
   ]
  },
  {
   "cell_type": "code",
   "execution_count": null,
   "id": "b8793ceb",
   "metadata": {},
   "outputs": [],
   "source": [
    "from clustering.kmeans import KMeansClustering\n",
    "\n",
    "\n",
    "variable_names = [\n",
    "    'crossing', 'finishing', 'heading_accuracy', 'short_passing',\n",
    "    'dribbling', 'free_kick_accuracy', 'sprint_speed', 'ball_control', \n",
    "    'reactions', 'agility', 'sliding_tackle'\n",
    "]\n",
    "\n",
    "kmeans_result = KMeansClustering.execute_k_means(\n",
    "    dataset=soccer_data, \n",
    "    variables=variable_names,\n",
    "    num_clusters=3, \n",
    "    standardize_vars=True, \n",
    "    generate_charts=True,\n",
    "    save_results_to_excel=True\n",
    ")\n",
    "\n",
    "# OK: resize the 3d scatterplot\n",
    "# OK: display the seaborn plot\n",
    "# OK: export results to excel (either having an option on the function or with a separated function \"to_excel\" see what is best)\n",
    "\n",
    "# OK: add elbow plots when uusing the range method\n",
    "# OK: specify path for excel outputs (instead of just boolean choice)\n",
    "# OK: Export charts to output folders (with timmestamp)\n",
    "\n",
    "# TODO: export the whole dataset with the assigned clusters so that e can plot mmore intuitive ways for the user to  have a\n",
    "#     glimpse of what each cluster could be interpreted (see the soccer heatmap on dan's slide)\n",
    "# TODO: add nbstripout for template scaffold\n",
    "\n",
    "# TODO: Include more clustering methods to this template.\n",
    "#     KMeans Minibatch (for being able to use on larger datasets)\n",
    "\n",
    "# TODO: Include the dimensionality reduction methods to the notebooks (add as a requirement for the clustering template)\n",
    "\n",
    "\n",
    "\n",
    "# TODO: Is there a way to apply nbstripout conditioned to file size?\n"
   ]
  },
  {
   "cell_type": "markdown",
   "id": "18cfc8f8-778b-43d5-9ac9-e6a54aaa7545",
   "metadata": {},
   "source": [
    "### Exploring results in depth\n",
    "\n",
    "The `KMeansClustering.execute_k_means` function returns a dictionary with additional results (beyond plots) that can be used for further analysis of the clustering.\n",
    "Namely:\n",
    "* `model`: The scikitlearn model that can be used for prediction on new data and also to access metrics.\n",
    "* `data`: The data used on the cluster algorithm training.\n",
    "* `centroids`: A dataframe with the centroids of each cluster found.\n",
    "* `cluster_n`: A dataframe containing the point counts for each cluster.\n",
    "* `scores`\n",
    "* `cluster_plot`\n",
    "* `cluster_plot_info`\n",
    "* `factor_plot`"
   ]
  },
  {
   "cell_type": "code",
   "execution_count": null,
   "id": "71ec1caf-b60e-4bae-a6d1-97833b39f4ac",
   "metadata": {},
   "outputs": [],
   "source": [
    "kmeans_result"
   ]
  },
  {
   "cell_type": "markdown",
   "id": "e108236d",
   "metadata": {},
   "source": [
    "# Perform K-means analysis for a range of clusters"
   ]
  },
  {
   "cell_type": "code",
   "execution_count": null,
   "id": "fc9c3719",
   "metadata": {},
   "outputs": [],
   "source": [
    "from clustering.kmeans import KMeansClustering\n",
    "\n",
    "results = KMeansClustering.k_means_range(\n",
    "    dataset=soccer_data, \n",
    "    variables=variable_names,\n",
    "    min_clusters = 2, max_clusters = 6,\n",
    "    standardize_vars=True, \n",
    "    generate_charts=True,\n",
    "    save_results_to_excel=True,\n",
    "    export_charts=True\n",
    ")\n",
    "\n",
    "# TODO: Add samples of how to acces data from centroids from inside the \"results\" variable outputed from the function\n"
   ]
  },
  {
   "cell_type": "code",
   "execution_count": null,
   "id": "c5682684-d7af-433f-b8db-3696434b02b9",
   "metadata": {},
   "outputs": [],
   "source": []
  }
 ],
 "metadata": {
  "kernelspec": {
   "display_name": "Python 3",
   "language": "python",
   "name": "python3"
  },
  "language_info": {
   "codemirror_mode": {
    "name": "ipython",
    "version": 3
   },
   "file_extension": ".py",
   "mimetype": "text/x-python",
   "name": "python",
   "nbconvert_exporter": "python",
   "pygments_lexer": "ipython3",
   "version": "3.8.8"
  },
  "toc": {
   "base_numbering": 1,
   "nav_menu": {},
   "number_sections": true,
   "sideBar": true,
   "skip_h1_title": false,
   "title_cell": "Table of Contents",
   "title_sidebar": "Contents",
   "toc_cell": false,
   "toc_position": {},
   "toc_section_display": true,
   "toc_window_display": false
  }
 },
 "nbformat": 4,
 "nbformat_minor": 5
}
